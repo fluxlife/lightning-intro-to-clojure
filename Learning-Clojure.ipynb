{
 "cells": [
  {
   "cell_type": "markdown",
   "metadata": {},
   "source": [
    "# What is Clojure\n",
    "\n",
    "- Clojure is a modern **functional-first** programming language based on an old language called LISP\n",
    "  - What do I mean by a \"functional-first\"?\n",
    "    - Unlike Scala which is a mixed-paradigm language that allows you to write programs in an OO-style and/or FP-style, idiomatic Clojure code is written in a functional style. \n",
    "    - It's harder/uglier to write OO code in Clojure\n",
    "\n",
    "- Dynamically typed\n",
    "  - While there are typed LISPs, Clojure was purposefully designed to be dynamic.\n",
    "  - So you focus on solving problems and not building type architectures.\n",
    "    - Not that there is anything wrong with building type architectures.\n",
    "  - Focus on the data, not the type.\n",
    "\n",
    "- Performant"
   ]
  },
  {
   "cell_type": "markdown",
   "metadata": {},
   "source": [
    "  \n",
    "# What is Clojure designed to do\n",
    "- Solve real world problems\n",
    "- Run continuously\n",
    "- Interact with the world\n",
    "- Deal with constant change"
   ]
  },
  {
   "cell_type": "markdown",
   "metadata": {},
   "source": [
    "# Who uses Clojure\n",
    "A long [list](https://clojure.org/community/companies) of companies use it.\n",
    "\n",
    "Some of the highlights:\n",
    "- Walmart Labs\n",
    "- Apple\n",
    "- Amazon\n",
    "- Adobe\n",
    "- Capital One\n",
    "- Deutsche Bank\n",
    "- Ebay\n",
    "- Groupon\n",
    "- Netflix\n",
    "- Opentable\n",
    "- SAP"
   ]
  },
  {
   "cell_type": "markdown",
   "metadata": {},
   "source": [
    "# Clojure is a hosted language\n",
    "\n",
    "- It was built with idea that it would run on top of another platform.\n",
    "- Plaforms where Clojure runs:\n",
    "  - JVM - (Clojure)\n",
    "  - NodeJS/Browser - (Clojurescript)\n",
    "    - by most accounts, more popular than Clojure itself.\n",
    "  - CLR/.NET - (Clojure CLR)\n",
    "    - Not widely used\n",
    "    - Not yet on .Net Core\n",
    "    - Needs more TLC compared to Clojure/Clojurescript\n",
    "- You can interop with the host language\n",
    "  - Clojure <=> Java Ecosystem\n",
    "  - Clojurescript <=> Node(Client and Serverside) Ecosystem\n",
    "  - Clojure CLR <=> .NET Ecosystem"
   ]
  },
  {
   "cell_type": "markdown",
   "metadata": {},
   "source": [
    "# How to get started\n",
    "- Install Java 8 or above\n",
    "```\n",
    "brew update\n",
    "brew tap homebrew/cask-versions\n",
    "brew cask install java\n",
    "```\n",
    "- Install Clojure and Clojure CLI tools\n",
    "```\n",
    "brew install clojure\n",
    "```\n",
    "- Install Leiningen\n",
    "```\n",
    "brew install leiningen\n",
    "```\n",
    "OR\n",
    "[Install Leiningen](https://leiningen.org/#install) from instructions\n",
    "\n",
    "\n",
    "## Wait, what is this Leningen thing?\n",
    "- It's a Clojure build tool. \n",
    "- Leiningen is to Clojure as\n",
    "  - Maven/Gradle is to Java\n",
    "  - SBT is to Scala\n",
    "  - Make is to ...\n",
    "- Technically, you don't need it. \n",
    "  - You can do all of your package management with the clojure cli tools\n",
    "    - Guide [Here](https://clojure.org/guides/deps_and_cli)\n",
    "  - But for convenience and online examples you'll look at, you should use it for now.\n",
    "  \n",
    "## To follow along ...\n",
    "- Do the above then ...\n",
    "\n",
    "### In a Terminal\n",
    "- `$ clj`\n",
    "  - Opens a REPL and you can start experimenting\n",
    "- For windows:\n",
    "  - `$ lein repl`\n",
    "\n",
    "### In a notebook\n",
    "- clone this repo\n",
    "- install juptyer (if you haven't already)\n",
    "```\n",
    "python3 -m pip install --upgrade pip\n",
    "python3 -m pip install jupyter\n",
    "```\n",
    "- run: `lein jupyter install-kernel`\n",
    "- finally: `lein jupyter notebook`\n",
    "\n",
    "### In an Editor\n",
    "There are many editors but an easy way to get started:\n",
    "- [Visual Studio Code](https://code.visualstudio.com/download)\n",
    "- [Calva](https://marketplace.visualstudio.com/items?itemName=cospaia.clojure4vscode) VS Code plugin\n",
    "- [Calva Formatter](https://marketplace.visualstudio.com/items?itemName=cospaia.calva-fmt) Help with formatting"
   ]
  },
  {
   "cell_type": "markdown",
   "metadata": {},
   "source": [
    "# Anatomy of a Clojure Program"
   ]
  },
  {
   "cell_type": "code",
   "execution_count": null,
   "metadata": {},
   "outputs": [],
   "source": [
    "(ns learn-clojure.notebook) ;;namespace\n",
    "\n",
    "(def unbound-symbol) ;; a symbol - unbound to a value (aka an uninitialized variable in other languages)\n",
    "\n",
    "(def a 1) ;; a symbol bound to a value (aka a variable in other languages)\n",
    "\n",
    "(defn foo                       ;; function name\n",
    "    \"I am a doc string\"         ;; function doc string (optional)\n",
    "    [bar]                       ;; function parameter, [] empty vector for no parameter functions\n",
    "    (println \"I received\" bar)) ;; function body\n",
    "\n",
    "(foo \"a\")                       ;; function call\n",
    "(foo a)"
   ]
  },
  {
   "cell_type": "markdown",
   "metadata": {},
   "source": [
    "# Namespaces\n",
    "\n",
    "- Namespaces organize Clojure code\n",
    "  - Like Java packages\n",
    "- Symbols and Keywords may be namespace qualified:\n",
    "  - clojure.core/+\n",
    "  - org.example.mylib/create-widget\n",
    "  - :org.example.mylib/primary-key"
   ]
  },
  {
   "cell_type": "markdown",
   "metadata": {},
   "source": [
    "# Special Forms\n",
    "\n",
    "- Special forms provide a small set of primitives, such as the `if` conditional, that define the core syntax. \n",
    "- These are akin to reserved keywords found in other languages. \n",
    "- However, unlike most languages, Clojure uses a minimal amount of reserved syntax and **majority of the language is implemented using functions and macros in the standard library**"
   ]
  },
  {
   "cell_type": "markdown",
   "metadata": {},
   "source": [
    "# Types"
   ]
  },
  {
   "cell_type": "markdown",
   "metadata": {},
   "source": [
    "## Boolean"
   ]
  },
  {
   "cell_type": "code",
   "execution_count": null,
   "metadata": {},
   "outputs": [],
   "source": [
    ";; can have a value of true or false; nil values are also treated as false\n",
    "true"
   ]
  },
  {
   "cell_type": "markdown",
   "metadata": {},
   "source": [
    "## Nil"
   ]
  },
  {
   "cell_type": "code",
   "execution_count": null,
   "metadata": {},
   "outputs": [],
   "source": [
    ";; Clojure is a nil-based language\n",
    "nil\n",
    ";; Nulls are treated as nil"
   ]
  },
  {
   "cell_type": "markdown",
   "metadata": {},
   "source": [
    "## Numbers"
   ]
  },
  {
   "cell_type": "markdown",
   "metadata": {},
   "source": [
    "### Integers / Long"
   ]
  },
  {
   "cell_type": "code",
   "execution_count": 3,
   "metadata": {},
   "outputs": [
    {
     "data": {
      "text/plain": [
       "1"
      ]
     },
     "execution_count": 3,
     "metadata": {},
     "output_type": "execute_result"
    }
   ],
   "source": [
    "1"
   ]
  },
  {
   "cell_type": "markdown",
   "metadata": {},
   "source": [
    "### Double / Float"
   ]
  },
  {
   "cell_type": "code",
   "execution_count": 4,
   "metadata": {},
   "outputs": [
    {
     "data": {
      "text/plain": [
       "1.2"
      ]
     },
     "execution_count": 4,
     "metadata": {},
     "output_type": "execute_result"
    }
   ],
   "source": [
    "1.2"
   ]
  },
  {
   "cell_type": "markdown",
   "metadata": {},
   "source": [
    "### Ratios / Fractions"
   ]
  },
  {
   "cell_type": "code",
   "execution_count": 2,
   "metadata": {},
   "outputs": [
    {
     "data": {
      "text/plain": [
       "1/3"
      ]
     },
     "execution_count": 2,
     "metadata": {},
     "output_type": "execute_result"
    }
   ],
   "source": [
    "1/3"
   ]
  },
  {
   "cell_type": "code",
   "execution_count": 1,
   "metadata": {
    "scrolled": true
   },
   "outputs": [
    {
     "name": "stdout",
     "output_type": "stream",
     "text": [
      "7/12\n"
     ]
    }
   ],
   "source": [
    ";; Some fun ratio math\n",
    "(println (+ 1/3 1/4))"
   ]
  },
  {
   "cell_type": "markdown",
   "metadata": {},
   "source": [
    "## Character / Char"
   ]
  },
  {
   "cell_type": "markdown",
   "metadata": {},
   "source": [
    "Characters are denoted by a by preceding backslash."
   ]
  },
  {
   "cell_type": "code",
   "execution_count": null,
   "metadata": {},
   "outputs": [],
   "source": [
    "\\c"
   ]
  },
  {
   "cell_type": "markdown",
   "metadata": {},
   "source": [
    "## String"
   ]
  },
  {
   "cell_type": "markdown",
   "metadata": {},
   "source": [
    "Strings are denoted by double quotes and can span multiple lines."
   ]
  },
  {
   "cell_type": "code",
   "execution_count": 6,
   "metadata": {},
   "outputs": [
    {
     "data": {
      "text/plain": [
       "\"Just a string \\n        on multiple lines even. \\n        Look ma, no triple quotes!\""
      ]
     },
     "execution_count": 6,
     "metadata": {},
     "output_type": "execute_result"
    }
   ],
   "source": [
    "\"Just a string \n",
    "        on multiple lines even. \n",
    "        Look ma, no triple quotes!\"\n"
   ]
  },
  {
   "cell_type": "markdown",
   "metadata": {},
   "source": [
    "## Regex"
   ]
  },
  {
   "cell_type": "markdown",
   "metadata": {},
   "source": [
    "Regex are strings prefixed with a hash symbol."
   ]
  },
  {
   "cell_type": "code",
   "execution_count": null,
   "metadata": {},
   "outputs": [],
   "source": [
    "(println #\"regex\")\n",
    "(println (re-matches #\"regex\" \"regex\"))"
   ]
  },
  {
   "cell_type": "markdown",
   "metadata": {},
   "source": [
    "## Symbol"
   ]
  },
  {
   "cell_type": "code",
   "execution_count": null,
   "metadata": {},
   "outputs": [],
   "source": [
    "; Symbol are used as identifiers for variables.\n",
    "(def i-am-a-symbol)\n",
    "(println (type i-am-a-symbol))\n",
    "\n",
    "(def bound-symbol 1)\n",
    "(print (type bound-symbol))"
   ]
  },
  {
   "cell_type": "markdown",
   "metadata": {},
   "source": [
    "## Keyword"
   ]
  },
  {
   "cell_type": "code",
   "execution_count": null,
   "metadata": {},
   "outputs": [],
   "source": [
    "; Keyword are symbols that reference themselves and are denoted by a colon ':'\n",
    "; These are often used as keys in maps and can be namespaced.\n",
    "(println :keyword)\n",
    "(println :user/name)"
   ]
  },
  {
   "cell_type": "markdown",
   "metadata": {},
   "source": [
    "# Collection Types\n",
    "\n",
    "- Clojure has 4 collection types.\n",
    "- Unlike other \"pure\" functional languages, collections are **not inherently lazy** but can easily be made lazy"
   ]
  },
  {
   "cell_type": "markdown",
   "metadata": {},
   "source": [
    "## List"
   ]
  },
  {
   "cell_type": "code",
   "execution_count": 13,
   "metadata": {},
   "outputs": [
    {
     "data": {
      "text/plain": [
       "(1 2 3)"
      ]
     },
     "execution_count": 13,
     "metadata": {},
     "output_type": "execute_result"
    }
   ],
   "source": [
    "'(1 2 3)"
   ]
  },
  {
   "cell_type": "code",
   "execution_count": 14,
   "metadata": {},
   "outputs": [
    {
     "data": {
      "text/plain": [
       "(1 2 3)"
      ]
     },
     "execution_count": 14,
     "metadata": {},
     "output_type": "execute_result"
    }
   ],
   "source": [
    "(list 1 2 3)"
   ]
  },
  {
   "cell_type": "markdown",
   "metadata": {},
   "source": [
    "## Vector"
   ]
  },
  {
   "cell_type": "code",
   "execution_count": null,
   "metadata": {},
   "outputs": [],
   "source": [
    "[1 2 3]"
   ]
  },
  {
   "cell_type": "markdown",
   "metadata": {},
   "source": [
    "## Map"
   ]
  },
  {
   "cell_type": "code",
   "execution_count": null,
   "metadata": {},
   "outputs": [],
   "source": [
    "{:foo \"a\" :b \"c\" \"string-key\" 123}"
   ]
  },
  {
   "cell_type": "markdown",
   "metadata": {},
   "source": [
    "## Set"
   ]
  },
  {
   "cell_type": "code",
   "execution_count": null,
   "metadata": {
    "scrolled": false
   },
   "outputs": [],
   "source": [
    "#{1 2 3}"
   ]
  },
  {
   "cell_type": "markdown",
   "metadata": {},
   "source": [
    "You will notice that there are no delimiters in each data structure.\n",
    "\n",
    "That is because a space is the delimiter."
   ]
  },
  {
   "cell_type": "code",
   "execution_count": null,
   "metadata": {},
   "outputs": [],
   "source": [
    "(println\n",
    "    \"Technically, you can delimit values with commas if you want to:\"\n",
    "    '(1, 2, 3)\n",
    "    \"But it's idiomatic Clojure to leave them out\"\n",
    "    '(1 2 3)\n",
    "    \"even in maps\"\n",
    "    {:keyword \"value\", :another-keyword \"another value\"}\n",
    "    \" without comma\"\n",
    "    {:keyword \"value\" :another-keyword \"another value\"})"
   ]
  },
  {
   "cell_type": "markdown",
   "metadata": {},
   "source": [
    "# Functions\n",
    "\n",
    "Function calls in Clojure work the same as any mainstream language. \n",
    "\n",
    "The main difference being that the function name comes after the paren in the Clojure version.\n",
    "\n",
    "### Mainstream Language\n",
    "```\n",
    "functionName(param1, param2)\n",
    "```\n",
    "### Clojure (and all Lisps)\n",
    "```\n",
    "(function-name param1 param2)\n",
    "```\n",
    "\n",
    "There is a very simple reason for this difference. The function call is simply a **list** containing the function name and its parameters. In Clojure, a list is a special type of data structure reserved for creating callable expressions. This is sometimes called `Prefix Notation` or `Polish Notation`."
   ]
  },
  {
   "cell_type": "code",
   "execution_count": null,
   "metadata": {},
   "outputs": [],
   "source": [
    "(defn function-name [param1 param2]\n",
    "    (println \"This is a function-name and received\" param1 \"and\" param2))\n",
    "\n",
    "(function-name \"Hello\" \"World\")"
   ]
  },
  {
   "cell_type": "markdown",
   "metadata": {},
   "source": [
    "Some things do look strange at first with 'prefix' or 'polish' notation"
   ]
  },
  {
   "cell_type": "markdown",
   "metadata": {},
   "source": [
    "Most mainstream languages look like 1 + 2, but in Clojure it would look like: (+ 1 2)"
   ]
  },
  {
   "cell_type": "markdown",
   "metadata": {},
   "source": [
    "note that in Clojure `+` is a function, not an operator"
   ]
  },
  {
   "cell_type": "markdown",
   "metadata": {},
   "source": [
    "While it may seem strange, it makes order of operations very well understood"
   ]
  },
  {
   "cell_type": "code",
   "execution_count": null,
   "metadata": {},
   "outputs": [],
   "source": [
    "(+ 1 2 (* 8 4 (/ 12 6)))"
   ]
  },
  {
   "cell_type": "markdown",
   "metadata": {},
   "source": [
    "### Anonymous Functions / Lambdas"
   ]
  },
  {
   "cell_type": "code",
   "execution_count": null,
   "metadata": {},
   "outputs": [],
   "source": [
    "(fn [a b] (+ a b))"
   ]
  },
  {
   "cell_type": "markdown",
   "metadata": {},
   "source": [
    "## Your Functional Necessities\n",
    "- Map\n",
    "- Reduce\n",
    "- Filter\n",
    "- ... and Assoc"
   ]
  },
  {
   "cell_type": "markdown",
   "metadata": {},
   "source": [
    "### Map"
   ]
  },
  {
   "cell_type": "code",
   "execution_count": null,
   "metadata": {},
   "outputs": [],
   "source": [
    ";; transform a vector a values using\n",
    "(map #(+ 1 %) [1 2 3])"
   ]
  },
  {
   "cell_type": "code",
   "execution_count": null,
   "metadata": {},
   "outputs": [],
   "source": [
    ";; same as above but with long-form lambda syntax\n",
    "(map (fn [a] (+ 1 a)) [1 2 3])"
   ]
  },
  {
   "cell_type": "markdown",
   "metadata": {},
   "source": [
    "### Filter"
   ]
  },
  {
   "cell_type": "code",
   "execution_count": 1,
   "metadata": {},
   "outputs": [
    {
     "data": {
      "text/plain": [
       "(2 4 6 8 10 12 14 16 18)"
      ]
     },
     "execution_count": 1,
     "metadata": {},
     "output_type": "execute_result"
    }
   ],
   "source": [
    ";; filter out odd values\n",
    "(filter even? (range 1 20))"
   ]
  },
  {
   "cell_type": "markdown",
   "metadata": {},
   "source": [
    "### Reduce"
   ]
  },
  {
   "cell_type": "code",
   "execution_count": 2,
   "metadata": {},
   "outputs": [
    {
     "data": {
      "text/plain": [
       "6"
      ]
     },
     "execution_count": 2,
     "metadata": {},
     "output_type": "execute_result"
    }
   ],
   "source": [
    "(reduce + [1 2 3])"
   ]
  },
  {
   "cell_type": "markdown",
   "metadata": {},
   "source": [
    "#### Quick aside, keywords are functions that accept a map as a parameter"
   ]
  },
  {
   "cell_type": "code",
   "execution_count": 1,
   "metadata": {},
   "outputs": [
    {
     "data": {
      "text/plain": [
       "1"
      ]
     },
     "execution_count": 1,
     "metadata": {},
     "output_type": "execute_result"
    }
   ],
   "source": [
    "(def a-map {:a 1 :b 2})\n",
    "\n",
    "(:a a-map)"
   ]
  },
  {
   "cell_type": "markdown",
   "metadata": {},
   "source": [
    "#### ... and Maps are functions that accept keywords as a parameter"
   ]
  },
  {
   "cell_type": "code",
   "execution_count": 2,
   "metadata": {},
   "outputs": [
    {
     "data": {
      "text/plain": [
       "1"
      ]
     },
     "execution_count": 2,
     "metadata": {},
     "output_type": "execute_result"
    }
   ],
   "source": [
    "(a-map :a)"
   ]
  },
  {
   "cell_type": "markdown",
   "metadata": {},
   "source": [
    "### Assoc\n",
    "- Adding a value to a map"
   ]
  },
  {
   "cell_type": "code",
   "execution_count": 3,
   "metadata": {},
   "outputs": [
    {
     "data": {
      "text/plain": [
       "{:a 1, :b 2, :c 3}"
      ]
     },
     "execution_count": 3,
     "metadata": {},
     "output_type": "execute_result"
    }
   ],
   "source": [
    "(assoc a-map :c 3)"
   ]
  },
  {
   "cell_type": "markdown",
   "metadata": {},
   "source": [
    "# Immutability\n",
    "\n",
    "- All (4) data structures are immutable by default\n",
    "- You use functions that return new data structures to \"manipulate\" data"
   ]
  },
  {
   "cell_type": "code",
   "execution_count": null,
   "metadata": {},
   "outputs": [],
   "source": [
    "(println \" \\\"Modify\\\" and existing map:\" (assoc-in a-map [:b] 4))"
   ]
  },
  {
   "cell_type": "markdown",
   "metadata": {},
   "source": [
    "What's up with the vector of symbols (i.e. `[:b]`) there? ... so you can assoc-in deeply nested maps..."
   ]
  },
  {
   "cell_type": "code",
   "execution_count": 1,
   "metadata": {},
   "outputs": [
    {
     "name": "stdout",
     "output_type": "stream",
     "text": [
      "Original map {:user {:address {:city Texas}}}\n",
      "Uhh a Texas is not a city .. \n",
      "{:user {:address {:city Dallas}}}\n"
     ]
    }
   ],
   "source": [
    "(def a-nested-map {:user {:address {:city \"Texas\"}}})\n",
    "(println \"Original map\" a-nested-map)\n",
    "(println \"Uhh a Texas is not a city .. \")\n",
    "\n",
    "(def fixed-nested-map (assoc-in a-nested-map [:user :address :city] \"Dallas\"))\n",
    "(println fixed-nested-map)"
   ]
  },
  {
   "cell_type": "markdown",
   "metadata": {},
   "source": [
    "But despite running 'assoc-in' (i.e. 'modifying' the map), we did not actually change the original map because it is immutable"
   ]
  },
  {
   "cell_type": "code",
   "execution_count": 2,
   "metadata": {},
   "outputs": [
    {
     "name": "stdout",
     "output_type": "stream",
     "text": [
      "{:user {:address {:city Texas}}} vs {:user {:address {:city Dallas}}}\n"
     ]
    }
   ],
   "source": [
    "(println\n",
    "    a-nested-map\n",
    "    \"vs\"\n",
    "    fixed-nested-map)"
   ]
  },
  {
   "cell_type": "markdown",
   "metadata": {},
   "source": [
    "# Java Interop\n",
    "- Can iterop with all of Java and Java libraries\n",
    "- In Clojurescript can interop with all JS libs and nodeJS. \n",
    "- Interop is similar in both platforms, but JS has some extra interop functions not shown here."
   ]
  },
  {
   "cell_type": "code",
   "execution_count": 4,
   "metadata": {},
   "outputs": [
    {
     "data": {
      "text/plain": [
       "\"BLAH BLAH BLAH\""
      ]
     },
     "execution_count": 4,
     "metadata": {},
     "output_type": "execute_result"
    }
   ],
   "source": [
    "(.toUpperCase \"blah blah blah\")"
   ]
  },
  {
   "cell_type": "markdown",
   "metadata": {},
   "source": [
    "### Somtimes interop looks 'ugly'"
   ]
  },
  {
   "cell_type": "code",
   "execution_count": 10,
   "metadata": {},
   "outputs": [
    {
     "data": {
      "text/plain": [
       "\"Mac OS X\""
      ]
     },
     "execution_count": 10,
     "metadata": {},
     "output_type": "execute_result"
    }
   ],
   "source": [
    "(. (. System (getProperties)) (get \"os.name\"))"
   ]
  },
  {
   "cell_type": "markdown",
   "metadata": {},
   "source": [
    "### But Clojure provides some helper for this"
   ]
  },
  {
   "cell_type": "code",
   "execution_count": 11,
   "metadata": {},
   "outputs": [
    {
     "data": {
      "text/plain": [
       "\"Mac OS X\""
      ]
     },
     "execution_count": 11,
     "metadata": {},
     "output_type": "execute_result"
    }
   ],
   "source": [
    "(.. System (getProperties) (get \"os.name\"))"
   ]
  },
  {
   "cell_type": "markdown",
   "metadata": {},
   "source": [
    "### Or even better imo, threading (it's like Unix pipe, or piping in F#)"
   ]
  },
  {
   "cell_type": "code",
   "execution_count": 12,
   "metadata": {},
   "outputs": [
    {
     "data": {
      "text/plain": [
       "\"Mac OS X\""
      ]
     },
     "execution_count": 12,
     "metadata": {},
     "output_type": "execute_result"
    }
   ],
   "source": [
    "(-> (System/getProperties) (.get \"os.name\"))"
   ]
  },
  {
   "cell_type": "markdown",
   "metadata": {},
   "source": [
    "### Dealing with Mutable Java Data Structures"
   ]
  },
  {
   "cell_type": "code",
   "execution_count": 9,
   "metadata": {},
   "outputs": [
    {
     "data": {
      "text/plain": [
       "{\"a\" 1, \"b\" 2}"
      ]
     },
     "execution_count": 9,
     "metadata": {},
     "output_type": "execute_result"
    }
   ],
   "source": [
    "(doto (new java.util.HashMap) (.put \"a\" 1) (.put \"b\" 2))"
   ]
  },
  {
   "cell_type": "markdown",
   "metadata": {},
   "source": [
    "# You now know 90% of Clojure.\n",
    "\n",
    "### The rest is literally just macros/functions in the core library.\n",
    "\n",
    "- Docs are [here](https://clojure.github.io/clojure/clojure.core-api.html)\n",
    "- A little more palatable version of the docs is the [cheatsheet](https://clojure.org/api/cheatsheet)"
   ]
  },
  {
   "cell_type": "markdown",
   "metadata": {},
   "source": [
    "# Misc Other Cool Things about Clojure"
   ]
  },
  {
   "cell_type": "markdown",
   "metadata": {},
   "source": [
    "## REPL-Driven Development\n",
    "\n",
    "- The Clojure workflow is based on REPL driven development, not \"write, compile, run\" or \"write, compile, test\" development.\n",
    "- DEMO ... Well this Notebook is kind of a style of REPL driven development ... but lets do this in a proper editor\n"
   ]
  },
  {
   "cell_type": "markdown",
   "metadata": {},
   "source": [
    "## Homoiconicity\n",
    "### (aka \"Code is data, data is Code\")\n",
    "\n",
    "- Interestingly, Clojure logic is written using its data structures. \n",
    "- Using the same syntax for both data and logic allows for powerful metaprogramming features. \n",
    "- We can manipulate any piece of Clojure code just like we would any other data structure. \n",
    "- This feature makes it trivial to template the code for recurring patterns in your problem domain. \n",
    "- In Clojure, code is data and data is code. aka homoiconicity"
   ]
  },
  {
   "cell_type": "markdown",
   "metadata": {},
   "source": [
    "# Closing Thoughts\n",
    "- There are a lot more things to talk about:\n",
    "  - Core Async (like Go Channels) for concurrency\n",
    "  - Atoms (safe atomic concurrent state)\n",
    "  - Agents (async concurrent state)\n",
    "  - Extending functionality of types from other libraries/host languages\n",
    "\n",
    "- Great book for beginners: \n",
    "  - [Clojure for the Brave and True](https://www.braveclojure.com)\n",
    "  - Free online, but hardcopy or ereader format available at major retailers\n",
    "  \n",
    "- Community is pretty cool.\n",
    "  - [Clojurian Slack](https://clojurians.slack.com/)"
   ]
  },
  {
   "cell_type": "markdown",
   "metadata": {},
   "source": [
    "# Attributions\n",
    "- A Significant amount of this content comes from a blog post: [Clojure Distilled](http://yogthos.github.io/ClojureDistilled.html)\n",
    "- Some ideas were taken from a presentation that Howard Lewis Ship, Walmart Labs sent me. Thank you Howard!!!"
   ]
  },
  {
   "cell_type": "code",
   "execution_count": null,
   "metadata": {},
   "outputs": [],
   "source": []
  }
 ],
 "metadata": {
  "kernelspec": {
   "display_name": "Lein-Clojure",
   "language": "clojure",
   "name": "lein-clojure"
  },
  "language_info": {
   "file_extension": ".clj",
   "mimetype": "text/x-clojure",
   "name": "clojure",
   "version": "1.10.0"
  }
 },
 "nbformat": 4,
 "nbformat_minor": 2
}
